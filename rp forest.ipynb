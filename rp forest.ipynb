{
 "cells": [
  {
   "cell_type": "code",
   "execution_count": 42,
   "metadata": {},
   "outputs": [
    {
     "name": "stdout",
     "output_type": "stream",
     "text": [
      "Attempting to Load Preanalyzed Data\n",
      "Training\n",
      "training on 39529 docs\n",
      "Saving\n"
     ]
    }
   ],
   "source": [
    "from word2vec import prepare_model\n",
    "from elasticsearch import Elasticsearch\n",
    "es = Elasticsearch()\n",
    "# window=10,negative=10,min_count=3\n",
    "model = prepare_model(es=es, window=15, negative=10, \n",
    "                      vector_size=300, min_count=2,\n",
    "                      epochs=10)"
   ]
  },
  {
   "cell_type": "code",
   "execution_count": 43,
   "metadata": {},
   "outputs": [],
   "source": [
    "rambo = model.docvecs['7555']\n",
    "star_wars = model.docvecs['11']\n",
    "clone_wars = model.docvecs['12180']\n",
    "empire_strikes_back = model.docvecs['1891']\n",
    "return_of_the_jedi = model.docvecs['1892']\n",
    "conan_the_destroyer = model.docvecs['9610']"
   ]
  },
  {
   "cell_type": "code",
   "execution_count": 44,
   "metadata": {},
   "outputs": [
    {
     "data": {
      "text/plain": [
       "[('darth', 0.7956092357635498),\n",
       " ('emperor', 0.745684027671814),\n",
       " ('galact', 0.7444233894348145),\n",
       " ('yoda', 0.7368442416191101),\n",
       " ('anakin', 0.7314332723617554),\n",
       " ('yavin', 0.7184299230575562),\n",
       " ('starship', 0.7172908186912537),\n",
       " ('vader', 0.7101962566375732),\n",
       " ('persian', 0.7071057558059692),\n",
       " ('kenobi', 0.7037615776062012),\n",
       " ('naboo', 0.6996074914932251),\n",
       " ('galaxi', 0.6954281330108643),\n",
       " ('pharaoh', 0.6886978149414062),\n",
       " ('shredder', 0.6829273104667664),\n",
       " ('deliver', 0.6827918887138367),\n",
       " ('wan', 0.6762895584106445),\n",
       " ('voldemort', 0.67408287525177),\n",
       " ('thor', 0.673377513885498),\n",
       " ('han_solo', 0.6728106737136841),\n",
       " ('camelot', 0.6713939905166626)]"
      ]
     },
     "execution_count": 44,
     "metadata": {},
     "output_type": "execute_result"
    }
   ],
   "source": [
    "model.wv.most_similar([\"jedi\"], topn=20)"
   ]
  },
  {
   "cell_type": "code",
   "execution_count": 51,
   "metadata": {},
   "outputs": [
    {
     "data": {
      "text/plain": [
       "[('r2', 0.9097056984901428),\n",
       " ('3po', 0.9084581136703491),\n",
       " ('d2', 0.905133068561554),\n",
       " ('chewbacca', 0.8801306486129761),\n",
       " ('rames', 0.8611500263214111),\n",
       " ('spymast', 0.8527490496635437),\n",
       " ('jafar', 0.8500666618347168),\n",
       " ('banknot', 0.8361202478408813),\n",
       " ('princess_leia', 0.8318808078765869),\n",
       " ('magua', 0.8278583288192749),\n",
       " ('sarmatian', 0.826224148273468),\n",
       " ('dest', 0.8250260353088379),\n",
       " ('flu', 0.8247779607772827),\n",
       " ('apokoliptian', 0.8228570818901062),\n",
       " ('фигаро', 0.8220861554145813),\n",
       " ('milyonlarca', 0.8214942216873169),\n",
       " ('jong', 0.8200467824935913),\n",
       " ('mordor', 0.8194437026977539),\n",
       " ('aragorn', 0.8191294074058533),\n",
       " ('everdeen', 0.8189955949783325),\n",
       " ('microsoft', 0.8188924789428711),\n",
       " ('tadeusz', 0.8188700079917908),\n",
       " ('meilleur', 0.8182120323181152),\n",
       " ('magneto', 0.8179739713668823),\n",
       " ('sinn', 0.8176655173301697),\n",
       " ('garcía', 0.8176017999649048),\n",
       " ('mambo', 0.8159319758415222),\n",
       " ('bagdad', 0.8157563209533691),\n",
       " ('gru', 0.8156765699386597),\n",
       " ('parnel', 0.815586268901825),\n",
       " ('комедии', 0.8154590129852295),\n",
       " ('wardaddi', 0.815030574798584),\n",
       " ('eno', 0.8148620128631592),\n",
       " ('hun', 0.8148245215415955),\n",
       " ('prochnow', 0.8146270513534546),\n",
       " ('smokejump', 0.8144651651382446),\n",
       " ('41st', 0.8141909241676331),\n",
       " ('sphinx', 0.8138401508331299),\n",
       " ('sp', 0.8136183023452759),\n",
       " ('sigournei', 0.8133833408355713)]"
      ]
     },
     "execution_count": 51,
     "metadata": {},
     "output_type": "execute_result"
    }
   ],
   "source": [
    "model.wv.most_similar([\"han_solo\"], topn=40)"
   ]
  },
  {
   "cell_type": "code",
   "execution_count": 46,
   "metadata": {},
   "outputs": [
    {
     "data": {
      "text/plain": [
       "[('3po', 0.942833423614502),\n",
       " ('d2', 0.933465838432312),\n",
       " ('r2', 0.9271136522293091),\n",
       " ('jafar', 0.8995647430419922),\n",
       " ('virgina', 0.8986133933067322),\n",
       " ('schnitzler', 0.8920295238494873),\n",
       " ('rond', 0.8888728022575378),\n",
       " ('41st', 0.8875364065170288),\n",
       " ('han_solo', 0.8871241211891174),\n",
       " ('sp', 0.8850204944610596),\n",
       " ('sappho', 0.8848048448562622),\n",
       " ('meilleur', 0.884732723236084),\n",
       " ('ganesan', 0.8833495378494263),\n",
       " ('guinn', 0.8799480199813843),\n",
       " ('tadeusz', 0.878345787525177),\n",
       " ('gaull', 0.8776256442070007),\n",
       " ('magua', 0.8774573802947998),\n",
       " ('mcgiver', 0.8773785829544067),\n",
       " ('microsoft', 0.8773696422576904),\n",
       " ('renato', 0.8769243359565735)]"
      ]
     },
     "execution_count": 46,
     "metadata": {},
     "output_type": "execute_result"
    }
   ],
   "source": [
    "import numpy as np\n",
    "\n",
    "model.wv.most_similar([star_wars], topn=20)"
   ]
  },
  {
   "cell_type": "code",
   "execution_count": 89,
   "metadata": {},
   "outputs": [],
   "source": [
    "from rp import random_projection\n",
    "\n",
    "rp_vects = []\n",
    "for i in range(0,50):\n",
    "    vect, lhs, rhs = random_projection(model.docvecs.vectors_docs)\n",
    "    rp_vects.append(vect)\n",
    "    \n",
    "def rp_sim(rp_vects, vect1, vect2):\n",
    "    same_sign = 0\n",
    "    for rp_vect in rp_vects:\n",
    "        dp1 = np.dot(rp_vect, vect1)\n",
    "        dp2 = np.dot(rp_vect, vect2)\n",
    "        if dp1 > 0 and dp2 > 0:\n",
    "            same_sign += 1\n",
    "        elif dp1 < 0 and dp2 < 0:\n",
    "            same_sign += 1\n",
    "    return same_sign / len(rp_vects)"
   ]
  },
  {
   "cell_type": "code",
   "execution_count": 49,
   "metadata": {},
   "outputs": [],
   "source": [
    "import requests\n",
    "\n",
    "def list_most_similar_docs(model, vect):\n",
    "    for doc_id, cos_sim in model.docvecs.most_similar([vect], topn=30):\n",
    "        try:\n",
    "            resp = requests.get('http://localhost:9200/tmdb/movie/{}?_source=overview,title'.format(doc_id)).json()\n",
    "            print(resp['_source']['title'], cos_sim)\n",
    "        except e:\n",
    "            print(e)\n",
    "            pass"
   ]
  },
  {
   "cell_type": "code",
   "execution_count": 50,
   "metadata": {},
   "outputs": [
    {
     "name": "stdout",
     "output_type": "stream",
     "text": [
      "Star Wars 1.0\n",
      "Arch of Triumph 0.92704176902771\n",
      "The Lord of the Rings: The Two Towers 0.9133389592170715\n",
      "Cleopatra 0.9067391157150269\n",
      "Occupy Unmasked 0.9067099094390869\n",
      "The Last Escape 0.9064509272575378\n",
      "Dark of the Sun 0.9063169956207275\n",
      "I Will Fight No More Forever 0.9059872627258301\n",
      "The Veils of Bagdad 0.9057121276855469\n",
      "Le créateur 0.9044629335403442\n",
      "Macbeth 0.9025134444236755\n",
      "The Tragedy of Macbeth 0.9024105072021484\n",
      "The Lone Wolf in Paris 0.9023197889328003\n",
      "Glitterbug 0.9009479284286499\n",
      "Clash of the Titans 0.9006326794624329\n",
      "Veruschka: A Life for the Camera 0.8994177579879761\n",
      "The Painted Veil 0.8989959359169006\n",
      "Khartoum 0.8989538550376892\n",
      "Bad Grandpa 0.8980671763420105\n",
      "Nouvelle Vague 0.897958517074585\n",
      "The Crusades 0.8975481986999512\n",
      "Moral Tales, Filmic Issues 0.897369384765625\n",
      "Buried Secrets 0.8972585201263428\n",
      "Ricardo O'Farrill: Abrazo Genial 0.8965938091278076\n",
      "Wojaczek 0.8965892791748047\n",
      "Blood Alley 0.8964524269104004\n",
      "Yalom's Cure 0.8953240513801575\n",
      "Naqoyqatsi 0.895049512386322\n",
      "Demetrius and the Gladiators 0.8947815895080566\n",
      "Arrowhead 0.8947552442550659\n"
     ]
    }
   ],
   "source": [
    "list_most_similar_docs(model, star_wars)"
   ]
  },
  {
   "cell_type": "code",
   "execution_count": 18,
   "metadata": {},
   "outputs": [],
   "source": [
    "#  dissimilar\n",
    "list_most_similar_docs(model, vect=np.negative(star_wars))"
   ]
  },
  {
   "cell_type": "code",
   "execution_count": 16,
   "metadata": {},
   "outputs": [
    {
     "data": {
      "text/plain": [
       "-0.07022353"
      ]
     },
     "execution_count": 16,
     "metadata": {},
     "output_type": "execute_result"
    }
   ],
   "source": [
    "np.dot(the_dinner_game, star_wars)"
   ]
  },
  {
   "cell_type": "code",
   "execution_count": 17,
   "metadata": {},
   "outputs": [
    {
     "data": {
      "text/plain": [
       "0.06100053463596857"
      ]
     },
     "execution_count": 17,
     "metadata": {},
     "output_type": "execute_result"
    }
   ],
   "source": [
    "np.dot(vect, castle_in_the_sky)"
   ]
  },
  {
   "cell_type": "code",
   "execution_count": 31,
   "metadata": {},
   "outputs": [
    {
     "data": {
      "text/plain": [
       "0.13079807"
      ]
     },
     "execution_count": 31,
     "metadata": {},
     "output_type": "execute_result"
    }
   ],
   "source": [
    "np.dot(rambo, star_wars)"
   ]
  },
  {
   "cell_type": "code",
   "execution_count": 18,
   "metadata": {},
   "outputs": [
    {
     "data": {
      "text/plain": [
       "0.84"
      ]
     },
     "execution_count": 18,
     "metadata": {},
     "output_type": "execute_result"
    }
   ],
   "source": [
    "rp_sim(rp_vects, star_wars, conan_the_destroyer)"
   ]
  },
  {
   "cell_type": "code",
   "execution_count": 19,
   "metadata": {},
   "outputs": [
    {
     "data": {
      "text/plain": [
       "0.76"
      ]
     },
     "execution_count": 19,
     "metadata": {},
     "output_type": "execute_result"
    }
   ],
   "source": [
    "rp_sim(rp_vects, star_wars, empire_strikes_back)"
   ]
  },
  {
   "cell_type": "code",
   "execution_count": 20,
   "metadata": {},
   "outputs": [
    {
     "data": {
      "text/plain": [
       "0.76"
      ]
     },
     "execution_count": 20,
     "metadata": {},
     "output_type": "execute_result"
    }
   ],
   "source": [
    "rp_sim(rp_vects, star_wars, castle_in_the_sky)"
   ]
  },
  {
   "cell_type": "code",
   "execution_count": 21,
   "metadata": {},
   "outputs": [
    {
     "data": {
      "text/plain": [
       "0.78"
      ]
     },
     "execution_count": 21,
     "metadata": {},
     "output_type": "execute_result"
    }
   ],
   "source": [
    "rp_sim(rp_vects, star_wars, rambo)"
   ]
  },
  {
   "cell_type": "code",
   "execution_count": 22,
   "metadata": {},
   "outputs": [
    {
     "data": {
      "text/plain": [
       "0.38"
      ]
     },
     "execution_count": 22,
     "metadata": {},
     "output_type": "execute_result"
    }
   ],
   "source": [
    "rp_sim(rp_vects, star_wars, the_dinner_game)"
   ]
  },
  {
   "cell_type": "code",
   "execution_count": 18,
   "metadata": {},
   "outputs": [
    {
     "data": {
      "text/plain": [
       "['__class__',\n",
       " '__delattr__',\n",
       " '__dict__',\n",
       " '__dir__',\n",
       " '__doc__',\n",
       " '__eq__',\n",
       " '__format__',\n",
       " '__ge__',\n",
       " '__getattribute__',\n",
       " '__getitem__',\n",
       " '__gt__',\n",
       " '__hash__',\n",
       " '__ignoreds',\n",
       " '__init__',\n",
       " '__init_subclass__',\n",
       " '__le__',\n",
       " '__lt__',\n",
       " '__module__',\n",
       " '__ne__',\n",
       " '__new__',\n",
       " '__numpys',\n",
       " '__recursive_saveloads',\n",
       " '__reduce__',\n",
       " '__reduce_ex__',\n",
       " '__repr__',\n",
       " '__scipys',\n",
       " '__setattr__',\n",
       " '__sizeof__',\n",
       " '__slotnames__',\n",
       " '__str__',\n",
       " '__subclasshook__',\n",
       " '__weakref__',\n",
       " '_adapt_by_suffix',\n",
       " '_check_input_data_sanity',\n",
       " '_check_training_sanity',\n",
       " '_clear_post_train',\n",
       " '_do_train_epoch',\n",
       " '_do_train_job',\n",
       " '_get_job_params',\n",
       " '_get_offsets_and_start_doctags_for_corpusfile',\n",
       " '_get_thread_working_mem',\n",
       " '_job_producer',\n",
       " '_load_specials',\n",
       " '_log_epoch_end',\n",
       " '_log_epoch_progress',\n",
       " '_log_progress',\n",
       " '_log_train_end',\n",
       " '_raw_word_count',\n",
       " '_save_specials',\n",
       " '_set_train_params',\n",
       " '_smart_save',\n",
       " '_train_epoch',\n",
       " '_train_epoch_corpusfile',\n",
       " '_update_job_params',\n",
       " '_worker_loop',\n",
       " '_worker_loop_corpusfile',\n",
       " 'alpha',\n",
       " 'batch_words',\n",
       " 'build_vocab',\n",
       " 'build_vocab_from_freq',\n",
       " 'callbacks',\n",
       " 'cbow_mean',\n",
       " 'clear_sims',\n",
       " 'comment',\n",
       " 'compute_loss',\n",
       " 'corpus_count',\n",
       " 'corpus_total_words',\n",
       " 'cum_table',\n",
       " 'dbow',\n",
       " 'dbow_words',\n",
       " 'delete_temporary_training_data',\n",
       " 'dm',\n",
       " 'dm_concat',\n",
       " 'dm_tag_count',\n",
       " 'docvecs',\n",
       " 'doesnt_match',\n",
       " 'epochs',\n",
       " 'estimate_memory',\n",
       " 'estimated_lookup_memory',\n",
       " 'evaluate_word_pairs',\n",
       " 'hashfxn',\n",
       " 'hs',\n",
       " 'infer_vector',\n",
       " 'init_sims',\n",
       " 'iter',\n",
       " 'layer1_size',\n",
       " 'load',\n",
       " 'min_alpha',\n",
       " 'min_alpha_yet_reached',\n",
       " 'min_count',\n",
       " 'model_trimmed_post_training',\n",
       " 'most_similar',\n",
       " 'most_similar_cosmul',\n",
       " 'n_similarity',\n",
       " 'negative',\n",
       " 'ns_exponent',\n",
       " 'random',\n",
       " 'reset_from',\n",
       " 'running_training_loss',\n",
       " 'sample',\n",
       " 'save',\n",
       " 'save_word2vec_format',\n",
       " 'sg',\n",
       " 'similar_by_vector',\n",
       " 'similar_by_word',\n",
       " 'similarity',\n",
       " 'syn0_lockf',\n",
       " 'syn1',\n",
       " 'syn1neg',\n",
       " 'total_train_time',\n",
       " 'train',\n",
       " 'train_count',\n",
       " 'trainables',\n",
       " 'vector_size',\n",
       " 'vocabulary',\n",
       " 'window',\n",
       " 'wmdistance',\n",
       " 'workers',\n",
       " 'wv']"
      ]
     },
     "execution_count": 18,
     "metadata": {},
     "output_type": "execute_result"
    }
   ],
   "source": [
    "dir(model)"
   ]
  },
  {
   "cell_type": "code",
   "execution_count": null,
   "metadata": {},
   "outputs": [],
   "source": []
  }
 ],
 "metadata": {
  "kernelspec": {
   "display_name": "Python 3",
   "language": "python",
   "name": "python3"
  },
  "language_info": {
   "codemirror_mode": {
    "name": "ipython",
    "version": 3
   },
   "file_extension": ".py",
   "mimetype": "text/x-python",
   "name": "python",
   "nbconvert_exporter": "python",
   "pygments_lexer": "ipython3",
   "version": "3.6.1"
  }
 },
 "nbformat": 4,
 "nbformat_minor": 2
}
